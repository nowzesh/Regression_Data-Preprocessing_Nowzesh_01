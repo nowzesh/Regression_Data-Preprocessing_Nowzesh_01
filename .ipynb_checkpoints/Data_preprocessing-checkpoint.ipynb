{
 "cells": [
  {
   "cell_type": "code",
   "execution_count": 29,
   "id": "f22434a9-ea25-4647-b005-5147c3175da4",
   "metadata": {},
   "outputs": [],
   "source": [
    "#  Created by A Z M Nowzesh Hasan (Data pre-processing)\n",
    "\n",
    "#Import essential Python libraries for data analysis and visualization\n",
    "import numpy as np\n",
    "import pandas as pd \n",
    "import matplotlib.pyplot as plt"
   ]
  },
  {
   "cell_type": "code",
   "execution_count": 30,
   "id": "e9adcbee-9c35-4fd1-94f5-b68e0046fce7",
   "metadata": {},
   "outputs": [
    {
     "data": {
      "text/html": [
       "<div>\n",
       "<style scoped>\n",
       "    .dataframe tbody tr th:only-of-type {\n",
       "        vertical-align: middle;\n",
       "    }\n",
       "\n",
       "    .dataframe tbody tr th {\n",
       "        vertical-align: top;\n",
       "    }\n",
       "\n",
       "    .dataframe thead th {\n",
       "        text-align: right;\n",
       "    }\n",
       "</style>\n",
       "<table border=\"1\" class=\"dataframe\">\n",
       "  <thead>\n",
       "    <tr style=\"text-align: right;\">\n",
       "      <th></th>\n",
       "      <th>Country</th>\n",
       "      <th>Age</th>\n",
       "      <th>Salary</th>\n",
       "      <th>Purchased</th>\n",
       "    </tr>\n",
       "  </thead>\n",
       "  <tbody>\n",
       "    <tr>\n",
       "      <th>0</th>\n",
       "      <td>France</td>\n",
       "      <td>44.0</td>\n",
       "      <td>72000.0</td>\n",
       "      <td>No</td>\n",
       "    </tr>\n",
       "    <tr>\n",
       "      <th>1</th>\n",
       "      <td>Spain</td>\n",
       "      <td>27.0</td>\n",
       "      <td>48000.0</td>\n",
       "      <td>Yes</td>\n",
       "    </tr>\n",
       "    <tr>\n",
       "      <th>2</th>\n",
       "      <td>Germany</td>\n",
       "      <td>30.0</td>\n",
       "      <td>54000.0</td>\n",
       "      <td>No</td>\n",
       "    </tr>\n",
       "    <tr>\n",
       "      <th>3</th>\n",
       "      <td>Spain</td>\n",
       "      <td>38.0</td>\n",
       "      <td>61000.0</td>\n",
       "      <td>No</td>\n",
       "    </tr>\n",
       "    <tr>\n",
       "      <th>4</th>\n",
       "      <td>Germany</td>\n",
       "      <td>40.0</td>\n",
       "      <td>NaN</td>\n",
       "      <td>Yes</td>\n",
       "    </tr>\n",
       "  </tbody>\n",
       "</table>\n",
       "</div>"
      ],
      "text/plain": [
       "   Country   Age   Salary Purchased\n",
       "0   France  44.0  72000.0        No\n",
       "1    Spain  27.0  48000.0       Yes\n",
       "2  Germany  30.0  54000.0        No\n",
       "3    Spain  38.0  61000.0        No\n",
       "4  Germany  40.0      NaN       Yes"
      ]
     },
     "execution_count": 30,
     "metadata": {},
     "output_type": "execute_result"
    }
   ],
   "source": [
    "# Importing Dataset \n",
    "\n",
    "dataset = pd.read_csv('Data.csv')\n",
    "dataset.head() # Shows first 5 lines of Panda dataset "
   ]
  },
  {
   "cell_type": "code",
   "execution_count": 31,
   "id": "08bc9ad7-45dd-4adf-99df-fd3ba81e0f4a",
   "metadata": {},
   "outputs": [
    {
     "name": "stdout",
     "output_type": "stream",
     "text": [
      "Independent variables: [['France' 44.0 72000.0]\n",
      " ['Spain' 27.0 48000.0]\n",
      " ['Germany' 30.0 54000.0]\n",
      " ['Spain' 38.0 61000.0]\n",
      " ['Germany' 40.0 nan]\n",
      " ['France' 35.0 58000.0]\n",
      " ['Spain' nan 52000.0]\n",
      " ['France' 48.0 79000.0]\n",
      " ['Germany' 50.0 83000.0]\n",
      " ['France' 37.0 67000.0]]\n",
      "\n",
      "Traget Variables: [['No']\n",
      " ['Yes']\n",
      " ['No']\n",
      " ['No']\n",
      " ['Yes']\n",
      " ['Yes']\n",
      " ['No']\n",
      " ['Yes']\n",
      " ['No']\n",
      " ['Yes']]\n"
     ]
    }
   ],
   "source": [
    "# Importing features from the dataset \n",
    "# Independent variable \n",
    "x = dataset.iloc[:, :-1].values # Taking all rows and all columns except the last one \n",
    "# Dependent variable \n",
    "y = dataset.iloc[:, -1:].values # Takimg final row as outcome/response  \n",
    "\n",
    "print(f\"Independent variables: {x}\\n\\nTraget Variables: {y}\")"
   ]
  },
  {
   "cell_type": "code",
   "execution_count": 32,
   "id": "8415b6d2-5096-40af-9c6d-1419aaa37075",
   "metadata": {},
   "outputs": [
    {
     "name": "stdout",
     "output_type": "stream",
     "text": [
      "Column-wise missing values: \n",
      "\n",
      "Country      0\n",
      "Age          1\n",
      "Salary       1\n",
      "Purchased    0\n",
      "dtype: int64\n"
     ]
    }
   ],
   "source": [
    "# Missing values checking: column-wise  \n",
    "missing_values = dataset.isnull().sum()\n",
    "print(f\"Column-wise missing values: \\n\\n{missing_values}\")"
   ]
  },
  {
   "cell_type": "code",
   "execution_count": 33,
   "id": "ca7cf531-be5f-4522-b143-a4b2aef82210",
   "metadata": {},
   "outputs": [
    {
     "name": "stdout",
     "output_type": "stream",
     "text": [
      "Imputed Independent Variable: \n",
      "\n",
      "[['France' 44.0 72000.0]\n",
      " ['Spain' 27.0 48000.0]\n",
      " ['Germany' 30.0 54000.0]\n",
      " ['Spain' 38.0 61000.0]\n",
      " ['Germany' 40.0 63777.77777777778]\n",
      " ['France' 35.0 58000.0]\n",
      " ['Spain' 38.77777777777778 52000.0]\n",
      " ['France' 48.0 79000.0]\n",
      " ['Germany' 50.0 83000.0]\n",
      " ['France' 37.0 67000.0]]\n"
     ]
    }
   ],
   "source": [
    "# Replace missing values: Imputer \n",
    "\n",
    "from sklearn.impute import SimpleImputer #improt library for simple imputer \n",
    "\n",
    "'''\n",
    "SimpleImputer allows you to automatically replace missing values using strategies like: \n",
    "Mean, Median, Most frequent (mode) or Constant value\n",
    "'''\n",
    "\n",
    "imputer = SimpleImputer(missing_values= np.nan, strategy= 'mean') # Replacing missing values by mean \n",
    "imputer.fit(x[:, 1:3]) # No imputer on 1st column: 1st column string \n",
    "x[:,1:3] = imputer.transform(x[:, 1:3])\n",
    "\n",
    "print(f\"Imputed Independent Variable: \\n\\n{x}\")"
   ]
  },
  {
   "cell_type": "code",
   "execution_count": 35,
   "id": "7eda0842-74d5-49dd-a389-4c8c4ba7914c",
   "metadata": {},
   "outputs": [
    {
     "name": "stdout",
     "output_type": "stream",
     "text": [
      "1st column (categorical variable converted into binary format): \n",
      "\n",
      "[[1.0 0.0 0.0 44.0 72000.0]\n",
      " [0.0 0.0 1.0 27.0 48000.0]\n",
      " [0.0 1.0 0.0 30.0 54000.0]\n",
      " [0.0 0.0 1.0 38.0 61000.0]\n",
      " [0.0 1.0 0.0 40.0 63777.77777777778]\n",
      " [1.0 0.0 0.0 35.0 58000.0]\n",
      " [0.0 0.0 1.0 38.77777777777778 52000.0]\n",
      " [1.0 0.0 0.0 48.0 79000.0]\n",
      " [0.0 1.0 0.0 50.0 83000.0]\n",
      " [1.0 0.0 0.0 37.0 67000.0]] \n"
     ]
    }
   ],
   "source": [
    "# Feature Encoding: Independent Variable 1st column \n",
    "# OneHotEncoder: from sci-kit learn: categorical variables into a binary (0 or 1) format\n",
    "\n",
    "from sklearn.preprocessing import OneHotEncoder\n",
    "from sklearn.compose import ColumnTransformer \n",
    "\n",
    "ct = ColumnTransformer(transformers=[('encoder', OneHotEncoder(), [0])], remainder = 'passthrough') # [0] : first column \n",
    "'''\n",
    "remainder='passthrough': all columns except column 0 will be left unchanged and passed through as they are.\n",
    "'''\n",
    "\n",
    "x = np.array(ct.fit_transform(x))\n",
    "\n",
    "print(f\"1st column (categorical variable converted into binary format): \\n\\n{x} \")"
   ]
  },
  {
   "cell_type": "code",
   "execution_count": 39,
   "id": "f6ca7e8f-7b31-47c7-8c4b-b4ea03eea92b",
   "metadata": {},
   "outputs": [
    {
     "name": "stdout",
     "output_type": "stream",
     "text": [
      "Label encoded dependent variable: \n",
      "\n",
      "[0 1 0 0 1 1 0 1 0 1]\n"
     ]
    }
   ],
   "source": [
    "# Label Encoding: dependent variable \n",
    "\n",
    "from sklearn.preprocessing import LabelEncoder \n",
    "\n",
    "le = LabelEncoder()\n",
    "y = le.fit_transform(y)\n",
    "\n",
    "print(f\"Label encoded dependent variable: \\n\\n{y}\" )"
   ]
  },
  {
   "cell_type": "code",
   "execution_count": null,
   "id": "c5a4e41a-ceaf-4f23-b22d-11e03d6ec38d",
   "metadata": {},
   "outputs": [],
   "source": []
  }
 ],
 "metadata": {
  "kernelspec": {
   "display_name": "Python 3 (ipykernel)",
   "language": "python",
   "name": "python3"
  },
  "language_info": {
   "codemirror_mode": {
    "name": "ipython",
    "version": 3
   },
   "file_extension": ".py",
   "mimetype": "text/x-python",
   "name": "python",
   "nbconvert_exporter": "python",
   "pygments_lexer": "ipython3",
   "version": "3.12.7"
  }
 },
 "nbformat": 4,
 "nbformat_minor": 5
}
